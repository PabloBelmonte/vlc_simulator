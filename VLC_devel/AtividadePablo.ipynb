{
 "cells": [
  {
   "cell_type": "code",
   "execution_count": 1,
   "metadata": {},
   "outputs": [
    {
     "ename": "NameError",
     "evalue": "name 'peso' is not defined",
     "output_type": "error",
     "traceback": [
      "\u001b[1;31m---------------------------------------------------------------------------\u001b[0m",
      "\u001b[1;31mNameError\u001b[0m                                 Traceback (most recent call last)",
      "\u001b[1;32m<ipython-input-1-22e00e45a36b>\u001b[0m in \u001b[0;36m<module>\u001b[1;34m\u001b[0m\n\u001b[0;32m     17\u001b[0m         \u001b[0mresposta_Impulso\u001b[0m\u001b[1;33m[\u001b[0m\u001b[0mi\u001b[0m\u001b[1;33m]\u001b[0m \u001b[1;33m=\u001b[0m \u001b[1;36m1\u001b[0m\u001b[1;33m*\u001b[0m\u001b[0mnp\u001b[0m\u001b[1;33m.\u001b[0m\u001b[0mexp\u001b[0m\u001b[1;33m(\u001b[0m\u001b[1;33m-\u001b[0m\u001b[0mi\u001b[0m\u001b[1;33m/\u001b[0m\u001b[1;36m100\u001b[0m\u001b[1;33m)\u001b[0m\u001b[1;33m\u001b[0m\u001b[1;33m\u001b[0m\u001b[0m\n\u001b[0;32m     18\u001b[0m \u001b[1;33m\u001b[0m\u001b[0m\n\u001b[1;32m---> 19\u001b[1;33m \u001b[0mk\u001b[0m \u001b[1;33m=\u001b[0m \u001b[0mpeso\u001b[0m\u001b[1;33m/\u001b[0m\u001b[0mmax\u001b[0m\u001b[1;33m(\u001b[0m\u001b[0mresposta_Impulso\u001b[0m\u001b[1;33m)\u001b[0m\u001b[1;33m\u001b[0m\u001b[1;33m\u001b[0m\u001b[0m\n\u001b[0m\u001b[0;32m     20\u001b[0m \u001b[0mresposta_Impulso\u001b[0m \u001b[1;33m=\u001b[0m \u001b[0mk\u001b[0m\u001b[1;33m*\u001b[0m\u001b[0mresposta_Impulso\u001b[0m\u001b[1;33m\u001b[0m\u001b[1;33m\u001b[0m\u001b[0m\n\u001b[0;32m     21\u001b[0m \u001b[0mplt\u001b[0m\u001b[1;33m.\u001b[0m\u001b[0mplot\u001b[0m\u001b[1;33m(\u001b[0m\u001b[0mresposta_Impulso\u001b[0m\u001b[1;33m)\u001b[0m\u001b[1;33m\u001b[0m\u001b[1;33m\u001b[0m\u001b[0m\n",
      "\u001b[1;31mNameError\u001b[0m: name 'peso' is not defined"
     ]
    }
   ],
   "source": [
    "import numpy as np\n",
    "import matplotlib.pyplot as plt\n",
    "\n",
    "#----------Gerando o sinal de entrada-------------\n",
    "sinal_Base = np.repeat([0., 1., 0.], 1000)\n",
    "sinal = []\n",
    "for i in range(5):\n",
    "    sinal.append(list(sinal_Base))\n",
    "sinal = np.array(sinal)\n",
    "sinal = np.ndarray.flatten(sinal)\n",
    "\n",
    "#----------Gerando a resposta ao impulso-------------\n",
    "GanhoDC = 1000\n",
    "resposta_Impulso = np.zeros(3000) \n",
    "for i in range(len(resposta_Impulso)):\n",
    "    if(i < 500 and i > 100):    \n",
    "        resposta_Impulso[i] = 1*np.exp(-i/100)\n",
    "\n",
    "k = peso/max(resposta_Impulso)\n",
    "resposta_Impulso = k*resposta_Impulso\n",
    "plt.plot(resposta_Impulso)\n",
    "\n",
    "saida = GanhoDC * (np.convolve(sinal, resposta_Impulso, mode='same') / sum(resposta_Impulso))\n",
    "\n",
    "fig, (ax_orig, ax_win, ax_filt) = plt.subplots(3, 1, sharex=True)\n",
    "ax_orig.plot(sinal)\n",
    "ax_orig.set_title('Sinal de Entrada')\n",
    "ax_orig.margins(0, 0.1)\n",
    "ax_win.plot(resposta_Impulso1)\n",
    "ax_win.set_title('Resposta ao impulso')\n",
    "ax_win.margins(0, 0.1)\n",
    "ax_filt.plot(saida)\n",
    "ax_filt.set_title('Sinal de Saida')\n",
    "ax_filt.margins(0, 0.1)\n",
    "fig.tight_layout()\n",
    "fig.show()"
   ]
  },
  {
   "cell_type": "code",
   "execution_count": null,
   "metadata": {},
   "outputs": [
    {
     "name": "stdout",
     "output_type": "stream",
     "text": [
      "Digite: 1 para impulsos ponderados\n",
      "\n",
      "Digite: 2 para ondas quadradas ponderadas\n",
      "\n",
      "Digite: 3 para impulsos com decaimento exponencial\n",
      "\n"
     ]
    }
   ],
   "source": [
    "import numpy as np\n",
    "import matplotlib.pyplot as plt\n",
    "\n",
    "#----------Gerando o sinal de entrada-------------\n",
    "sinal_Base = np.repeat([0., 1., 0.], 1000)\n",
    "sinal = []\n",
    "for i in range(1):\n",
    "    sinal.append(list(sinal_Base))\n",
    "sinal = np.array(sinal)\n",
    "sinal = np.ndarray.flatten(sinal)\n",
    "\n",
    "#----------Gerando a resposta ao impulso-------------\n",
    "GanhoDC = 1\n",
    "print(\"Digite: 1 para impulsos ponderados\\n\")\n",
    "print(\"Digite: 2 para ondas quadradas ponderadas\\n\")\n",
    "print(\"Digite: 3 para impulsos com decaimento exponencial\\n\")\n",
    "tipo = input(\"Escolha o formato da Resposta ao impulso?\\n\")\n",
    "quantidade = int(input(\"Quantos impulsos bases?\\n\"))\n",
    "limiteInf = 0\n",
    "limiteSup = 0\n",
    "resposta_Impulso = np.zeros(1000)\n",
    "\n",
    "if tipo == \"1\":\n",
    "    for i in range(quantidade):\n",
    "        pos = int(input(\"Digite o deslocamente no tempo do impulso:\\n\"))\n",
    "        peso = float(input(\"Digite o peso do impulso (entre zero e um):\\n\"))\n",
    "        resposta_Impulso[pos] = resposta_Impulso[pos] + peso\n",
    "elif(tipo == \"2\"):\n",
    "    for i in range(quantidade):\n",
    "        limiteInf = int(input(\"Digite o deslocamente no tempo do impulso:\\n\"))\n",
    "        limiteSup = int(input(\"Duração do impulso:\\n\"))\n",
    "        limiteSup = limiteInf + limiteSup\n",
    "        peso = float(input(\"Digite o peso na região (entre zero e um):\\n\"))\n",
    "        resposta_Impulso[limiteInf:limiteSup] = resposta_Impulso[limiteInf:limiteSup] + peso\n",
    "else:\n",
    "    for i in range(quantidade):\n",
    "        limiteInf = int(input(\"Digite o deslocamente no tempo do impulso:\\n\"))\n",
    "        limiteSup = int(input(\"Duração do impulso(5 constantes de tempo):\\n\"))\n",
    "        limiteSup = limiteInf + limiteSup\n",
    "        peso = float(input(\"Digite o peso do impulso com decaimento (entre zero e um):\\n\"))\n",
    "        for j in range(len(resposta_Impulso)):\n",
    "            if(j < limiteSup and j > limiteInf):    \n",
    "                resposta_Impulso[j] = np.exp(-j/((limiteSup-limiteInf)/5))\n",
    "    k = peso/max(resposta_Impulso)\n",
    "    resposta_Impulso = k*resposta_Impulso\n",
    "    \n",
    "plt.plot(resposta_Impulso)\n",
    "plt.title(\"Resposta ao Impulso\")\n",
    "saida = GanhoDC * (np.convolve(sinal, resposta_Impulso, mode='same')/sum(resposta_Impulso))\n",
    "\n",
    "fig, (ax_orig, ax_win, ax_filt) = plt.subplots(3, 1, sharex=True)\n",
    "ax_orig.plot(sinal)\n",
    "ax_orig.set_title('Sinal de Entrada')\n",
    "ax_orig.margins(0, 0.1)\n",
    "ax_win.plot(resposta_Impulso)\n",
    "ax_win.set_title('Resposta ao impulso')\n",
    "ax_win.margins(0, 0.1)\n",
    "ax_filt.plot(saida)\n",
    "ax_filt.set_title('Sinal de Saida')\n",
    "ax_filt.margins(0, 0.1)\n",
    "\n",
    "fig.tight_layout()\n",
    "fig.show()"
   ]
  },
  {
   "cell_type": "code",
   "execution_count": null,
   "metadata": {},
   "outputs": [],
   "source": []
  }
 ],
 "metadata": {
  "kernelspec": {
   "display_name": "Python 3",
   "language": "python",
   "name": "python3"
  },
  "language_info": {
   "codemirror_mode": {
    "name": "ipython",
    "version": 3
   },
   "file_extension": ".py",
   "mimetype": "text/x-python",
   "name": "python",
   "nbconvert_exporter": "python",
   "pygments_lexer": "ipython3",
   "version": "3.8.5"
  }
 },
 "nbformat": 4,
 "nbformat_minor": 4
}
